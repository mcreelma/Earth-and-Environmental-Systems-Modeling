{
 "cells": [
  {
   "cell_type": "markdown",
   "metadata": {},
   "source": [
    "# Flood Frequency Analysis\n",
    "\n",
    "Mitch Creelman"
   ]
  },
  {
   "cell_type": "markdown",
   "metadata": {},
   "source": [
    "## Import Packages"
   ]
  },
  {
   "cell_type": "code",
   "execution_count": 10,
   "metadata": {},
   "outputs": [],
   "source": [
    "import dataretrieval.nwis as nwis\n",
    "import matplotlib.pyplot as plt\n",
    "import pandas as pd\n",
    "import numpy as np"
   ]
  },
  {
   "cell_type": "markdown",
   "metadata": {},
   "source": [
    "## Variables"
   ]
  },
  {
   "cell_type": "code",
   "execution_count": 11,
   "metadata": {},
   "outputs": [],
   "source": [
    "# site number (add more for repeated layers)\n",
    "usgs_site = ['13042500']\n",
    "\n",
    "# dates of observation\n",
    "start_date = '1970-10-01'\n",
    "end_date = '2020-09-30'\n"
   ]
  },
  {
   "cell_type": "markdown",
   "metadata": {},
   "source": [
    "## Pull the Data"
   ]
  },
  {
   "cell_type": "code",
   "execution_count": 12,
   "metadata": {},
   "outputs": [],
   "source": [
    "# load in the flow data\n",
    "df = nwis.get_record(sites = usgs_site , # input the site numbers\n",
    "    service = 'dv' , # dv for daily values\n",
    "    start = start_date , end = end_date, # start and end dates\n",
    "    ) \n",
    "\n"
   ]
  },
  {
   "cell_type": "code",
   "execution_count": 13,
   "metadata": {},
   "outputs": [
    {
     "name": "stdout",
     "output_type": "stream",
     "text": [
      "\n",
      " data types by column\n"
     ]
    },
    {
     "data": {
      "text/plain": [
       "00060_Mean       float64\n",
       "00060_Mean_cd     object\n",
       "site_no           object\n",
       "dtype: object"
      ]
     },
     "metadata": {},
     "output_type": "display_data"
    },
    {
     "name": "stdout",
     "output_type": "stream",
     "text": [
      "\n",
      " data structure type\n"
     ]
    },
    {
     "data": {
      "text/plain": [
       "pandas.core.frame.DataFrame"
      ]
     },
     "metadata": {},
     "output_type": "display_data"
    },
    {
     "name": "stdout",
     "output_type": "stream",
     "text": [
      "\n",
      " Dataset Information\n",
      "<class 'pandas.core.frame.DataFrame'>\n",
      "DatetimeIndex: 18263 entries, 1970-10-01 00:00:00+00:00 to 2020-09-30 00:00:00+00:00\n",
      "Data columns (total 3 columns):\n",
      " #   Column         Non-Null Count  Dtype  \n",
      "---  ------         --------------  -----  \n",
      " 0   00060_Mean     18263 non-null  float64\n",
      " 1   00060_Mean_cd  18263 non-null  object \n",
      " 2   site_no        18263 non-null  object \n",
      "dtypes: float64(1), object(2)\n",
      "memory usage: 570.7+ KB\n"
     ]
    },
    {
     "data": {
      "text/plain": [
       "None"
      ]
     },
     "metadata": {},
     "output_type": "display_data"
    },
    {
     "name": "stdout",
     "output_type": "stream",
     "text": [
      "List of different variables in each class: \n",
      "\n"
     ]
    },
    {
     "data": {
      "text/plain": [
       "00060_Mean       1275\n",
       "00060_Mean_cd       2\n",
       "site_no             1\n",
       "dtype: int64"
      ]
     },
     "metadata": {},
     "output_type": "display_data"
    },
    {
     "name": "stdout",
     "output_type": "stream",
     "text": [
      "\n",
      " Sample Statistics\n"
     ]
    },
    {
     "data": {
      "text/html": [
       "<div>\n",
       "<style scoped>\n",
       "    .dataframe tbody tr th:only-of-type {\n",
       "        vertical-align: middle;\n",
       "    }\n",
       "\n",
       "    .dataframe tbody tr th {\n",
       "        vertical-align: top;\n",
       "    }\n",
       "\n",
       "    .dataframe thead th {\n",
       "        text-align: right;\n",
       "    }\n",
       "</style>\n",
       "<table border=\"1\" class=\"dataframe\">\n",
       "  <thead>\n",
       "    <tr style=\"text-align: right;\">\n",
       "      <th></th>\n",
       "      <th>00060_Mean</th>\n",
       "    </tr>\n",
       "  </thead>\n",
       "  <tbody>\n",
       "    <tr>\n",
       "      <th>count</th>\n",
       "      <td>18263.000000</td>\n",
       "    </tr>\n",
       "    <tr>\n",
       "      <th>mean</th>\n",
       "      <td>642.285555</td>\n",
       "    </tr>\n",
       "    <tr>\n",
       "      <th>std</th>\n",
       "      <td>449.101776</td>\n",
       "    </tr>\n",
       "    <tr>\n",
       "      <th>min</th>\n",
       "      <td>1.100000</td>\n",
       "    </tr>\n",
       "    <tr>\n",
       "      <th>25%</th>\n",
       "      <td>291.000000</td>\n",
       "    </tr>\n",
       "    <tr>\n",
       "      <th>50%</th>\n",
       "      <td>549.000000</td>\n",
       "    </tr>\n",
       "    <tr>\n",
       "      <th>75%</th>\n",
       "      <td>879.500000</td>\n",
       "    </tr>\n",
       "    <tr>\n",
       "      <th>max</th>\n",
       "      <td>2990.000000</td>\n",
       "    </tr>\n",
       "  </tbody>\n",
       "</table>\n",
       "</div>"
      ],
      "text/plain": [
       "         00060_Mean\n",
       "count  18263.000000\n",
       "mean     642.285555\n",
       "std      449.101776\n",
       "min        1.100000\n",
       "25%      291.000000\n",
       "50%      549.000000\n",
       "75%      879.500000\n",
       "max     2990.000000"
      ]
     },
     "metadata": {},
     "output_type": "display_data"
    },
    {
     "name": "stdout",
     "output_type": "stream",
     "text": [
      "\n",
      " Random Sample\n"
     ]
    },
    {
     "data": {
      "text/html": [
       "<div>\n",
       "<style scoped>\n",
       "    .dataframe tbody tr th:only-of-type {\n",
       "        vertical-align: middle;\n",
       "    }\n",
       "\n",
       "    .dataframe tbody tr th {\n",
       "        vertical-align: top;\n",
       "    }\n",
       "\n",
       "    .dataframe thead th {\n",
       "        text-align: right;\n",
       "    }\n",
       "</style>\n",
       "<table border=\"1\" class=\"dataframe\">\n",
       "  <thead>\n",
       "    <tr style=\"text-align: right;\">\n",
       "      <th></th>\n",
       "      <th>00060_Mean</th>\n",
       "      <th>00060_Mean_cd</th>\n",
       "      <th>site_no</th>\n",
       "    </tr>\n",
       "    <tr>\n",
       "      <th>datetime</th>\n",
       "      <th></th>\n",
       "      <th></th>\n",
       "      <th></th>\n",
       "    </tr>\n",
       "  </thead>\n",
       "  <tbody>\n",
       "    <tr>\n",
       "      <th>1991-03-12 00:00:00+00:00</th>\n",
       "      <td>186.0</td>\n",
       "      <td>A</td>\n",
       "      <td>13042500</td>\n",
       "    </tr>\n",
       "    <tr>\n",
       "      <th>1978-03-29 00:00:00+00:00</th>\n",
       "      <td>259.0</td>\n",
       "      <td>A</td>\n",
       "      <td>13042500</td>\n",
       "    </tr>\n",
       "    <tr>\n",
       "      <th>1986-05-12 00:00:00+00:00</th>\n",
       "      <td>1640.0</td>\n",
       "      <td>A</td>\n",
       "      <td>13042500</td>\n",
       "    </tr>\n",
       "    <tr>\n",
       "      <th>1980-08-27 00:00:00+00:00</th>\n",
       "      <td>573.0</td>\n",
       "      <td>A</td>\n",
       "      <td>13042500</td>\n",
       "    </tr>\n",
       "    <tr>\n",
       "      <th>1971-05-26 00:00:00+00:00</th>\n",
       "      <td>1440.0</td>\n",
       "      <td>A</td>\n",
       "      <td>13042500</td>\n",
       "    </tr>\n",
       "    <tr>\n",
       "      <th>2007-10-18 00:00:00+00:00</th>\n",
       "      <td>120.0</td>\n",
       "      <td>A</td>\n",
       "      <td>13042500</td>\n",
       "    </tr>\n",
       "    <tr>\n",
       "      <th>1990-01-10 00:00:00+00:00</th>\n",
       "      <td>326.0</td>\n",
       "      <td>A</td>\n",
       "      <td>13042500</td>\n",
       "    </tr>\n",
       "    <tr>\n",
       "      <th>1977-07-23 00:00:00+00:00</th>\n",
       "      <td>1540.0</td>\n",
       "      <td>A</td>\n",
       "      <td>13042500</td>\n",
       "    </tr>\n",
       "    <tr>\n",
       "      <th>1994-01-02 00:00:00+00:00</th>\n",
       "      <td>550.0</td>\n",
       "      <td>A</td>\n",
       "      <td>13042500</td>\n",
       "    </tr>\n",
       "    <tr>\n",
       "      <th>2017-09-23 00:00:00+00:00</th>\n",
       "      <td>705.0</td>\n",
       "      <td>A</td>\n",
       "      <td>13042500</td>\n",
       "    </tr>\n",
       "    <tr>\n",
       "      <th>1988-05-02 00:00:00+00:00</th>\n",
       "      <td>773.0</td>\n",
       "      <td>A</td>\n",
       "      <td>13042500</td>\n",
       "    </tr>\n",
       "    <tr>\n",
       "      <th>1972-04-19 00:00:00+00:00</th>\n",
       "      <td>592.0</td>\n",
       "      <td>A</td>\n",
       "      <td>13042500</td>\n",
       "    </tr>\n",
       "    <tr>\n",
       "      <th>1971-04-29 00:00:00+00:00</th>\n",
       "      <td>756.0</td>\n",
       "      <td>A</td>\n",
       "      <td>13042500</td>\n",
       "    </tr>\n",
       "    <tr>\n",
       "      <th>2005-05-01 00:00:00+00:00</th>\n",
       "      <td>258.0</td>\n",
       "      <td>A</td>\n",
       "      <td>13042500</td>\n",
       "    </tr>\n",
       "    <tr>\n",
       "      <th>1975-04-07 00:00:00+00:00</th>\n",
       "      <td>737.0</td>\n",
       "      <td>A</td>\n",
       "      <td>13042500</td>\n",
       "    </tr>\n",
       "  </tbody>\n",
       "</table>\n",
       "</div>"
      ],
      "text/plain": [
       "                           00060_Mean 00060_Mean_cd   site_no\n",
       "datetime                                                     \n",
       "1991-03-12 00:00:00+00:00       186.0             A  13042500\n",
       "1978-03-29 00:00:00+00:00       259.0             A  13042500\n",
       "1986-05-12 00:00:00+00:00      1640.0             A  13042500\n",
       "1980-08-27 00:00:00+00:00       573.0             A  13042500\n",
       "1971-05-26 00:00:00+00:00      1440.0             A  13042500\n",
       "2007-10-18 00:00:00+00:00       120.0             A  13042500\n",
       "1990-01-10 00:00:00+00:00       326.0             A  13042500\n",
       "1977-07-23 00:00:00+00:00      1540.0             A  13042500\n",
       "1994-01-02 00:00:00+00:00       550.0             A  13042500\n",
       "2017-09-23 00:00:00+00:00       705.0             A  13042500\n",
       "1988-05-02 00:00:00+00:00       773.0             A  13042500\n",
       "1972-04-19 00:00:00+00:00       592.0             A  13042500\n",
       "1971-04-29 00:00:00+00:00       756.0             A  13042500\n",
       "2005-05-01 00:00:00+00:00       258.0             A  13042500\n",
       "1975-04-07 00:00:00+00:00       737.0             A  13042500"
      ]
     },
     "metadata": {},
     "output_type": "display_data"
    }
   ],
   "source": [
    "print(f'\\n data types by column' )\n",
    "display(df.dtypes)\n",
    "\n",
    "print(f'\\n data structure type' )\n",
    "display(type(df))\n",
    "\n",
    "print(f'\\n Dataset Information' )\n",
    "display(df.info())\n",
    "\n",
    "print(f'List of different variables in each class: \\n')\n",
    "display(df.nunique())\n",
    "\n",
    "print(f'\\n Sample Statistics' )\n",
    "display(df.describe())\n",
    "\n",
    "print(f'\\n Random Sample' )\n",
    "display(df.sample(15))"
   ]
  },
  {
   "cell_type": "code",
   "execution_count": 20,
   "metadata": {},
   "outputs": [
    {
     "data": {
      "image/png": "[encoded data removed]",
      "text/plain": [
       "<Figure size 1440x1080 with 1 Axes>"
      ]
     },
     "metadata": {
      "needs_background": "dark"
     },
     "output_type": "display_data"
    }
   ],
   "source": [
    "from logging.handlers import RotatingFileHandler\n",
    "from turtle import color\n",
    "\n",
    "\n",
    "fig = plt.figure(figsize = (20,15))\n",
    "df['00060_Mean'].groupby(df.index.year).describe().T.boxplot()\n",
    "ax = plt.gca()\n",
    "plt.title('Yearly Distribution of Flows' , color = 'white')\n",
    "plt.xticks(color = 'white')\n",
    "plt.xlabel('Year')\n",
    "plt.tick_params(axis='x', labelrotation = 45)\n",
    "plt.ylabel('Rate of Flow')\n",
    "plt.yticks(color = 'white')\n",
    "plt.show()"
   ]
  },
  {
   "cell_type": "code",
   "execution_count": 30,
   "metadata": {},
   "outputs": [
    {
     "data": {
      "text/plain": [
       "array([ 669., 1260., 1300., 1320., 1350., 1370., 1400., 1400., 1410.,\n",
       "       1440., 1470., 1470., 1480., 1490., 1520., 1540., 1610., 1630.,\n",
       "       1640., 1640., 1660., 1660., 1670., 1720., 1740., 1750., 1750.,\n",
       "       1760., 1780., 1800., 1810., 1810., 1890., 1910., 1920., 1940.,\n",
       "       1940., 1980., 2000., 2010., 2040., 2060., 2170., 2270., 2300.,\n",
       "       2360., 2410., 2540., 2640., 2770., 2990.])"
      ]
     },
     "execution_count": 30,
     "metadata": {},
     "output_type": "execute_result"
    }
   ],
   "source": [
    "q_ams = df['00060_Mean'].groupby(df.index.year).max().values # group the values by year\n",
    "q_ams_sorted = np.sort(q_ams) # sort from high to low\n",
    "q_ams_sorted"
   ]
  }
 ],
 "metadata": {
  "kernelspec": {
   "display_name": "Python 3.8.13 ('TensorFlow')",
   "language": "python",
   "name": "python3"
  },
  "language_info": {
   "codemirror_mode": {
    "name": "ipython",
    "version": 3
   },
   "file_extension": ".py",
   "mimetype": "text/x-python",
   "name": "python",
   "nbconvert_exporter": "python",
   "pygments_lexer": "ipython3",
   "version": "3.8.13"
  },
  "orig_nbformat": 4,
  "vscode": {
   "interpreter": {
    "hash": "912eafd5ee5c1e4d56f34d0aa7e3917e45abe7e57c2d89df6b69ab38f0477a8e"
   }
  }
 },
 "nbformat": 4,
 "nbformat_minor": 2
}
