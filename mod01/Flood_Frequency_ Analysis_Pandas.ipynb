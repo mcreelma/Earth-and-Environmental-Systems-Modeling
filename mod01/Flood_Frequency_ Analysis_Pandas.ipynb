{
 "cells": [
  {
   "cell_type": "markdown",
   "metadata": {},
   "source": [
    "# Flood Frequency Analysis\n",
    "\n",
    "Mitch Creelman"
   ]
  },
  {
   "cell_type": "markdown",
   "metadata": {},
   "source": [
    "## Import Packages"
   ]
  },
  {
   "cell_type": "code",
   "execution_count": 47,
   "metadata": {},
   "outputs": [],
   "source": [
    "import dataretrieval.nwis as nwis\n",
    "import matplotlib.pyplot as plt\n",
    "import pandas as pd\n",
    "import numpy as np"
   ]
  },
  {
   "cell_type": "markdown",
   "metadata": {},
   "source": [
    "## Variables"
   ]
  },
  {
   "cell_type": "code",
   "execution_count": 48,
   "metadata": {},
   "outputs": [],
   "source": [
    "# site number (add more for repeated layers)\n",
    "usgs_site = ['13042500']\n",
    "\n",
    "# dates of observation\n",
    "start_date = '1970-10-01'\n",
    "end_date = '2020-09-30'\n",
    "\n",
    "#label color (set to black if you have a white backgroun)\n",
    "lab_clr = 'white'\n"
   ]
  },
  {
   "cell_type": "markdown",
   "metadata": {},
   "source": [
    "## Pull the Data"
   ]
  },
  {
   "cell_type": "code",
   "execution_count": 49,
   "metadata": {},
   "outputs": [],
   "source": [
    "# load in the flow data\n",
    "df = nwis.get_record(sites = usgs_site , # input the site numbers\n",
    "    service = 'dv' , # dv for daily values\n",
    "    start = start_date , end = end_date, # start and end dates\n",
    "    ) \n",
    "\n"
   ]
  },
  {
   "cell_type": "code",
   "execution_count": 50,
   "metadata": {},
   "outputs": [
    {
     "name": "stdout",
     "output_type": "stream",
     "text": [
      "\n",
      " data types by column\n"
     ]
    },
    {
     "data": {
      "text/plain": [
       "00060_Mean       float64\n",
       "00060_Mean_cd     object\n",
       "site_no           object\n",
       "dtype: object"
      ]
     },
     "metadata": {},
     "output_type": "display_data"
    },
    {
     "name": "stdout",
     "output_type": "stream",
     "text": [
      "\n",
      " data structure type\n"
     ]
    },
    {
     "data": {
      "text/plain": [
       "pandas.core.frame.DataFrame"
      ]
     },
     "metadata": {},
     "output_type": "display_data"
    },
    {
     "name": "stdout",
     "output_type": "stream",
     "text": [
      "\n",
      " Dataset Information\n",
      "<class 'pandas.core.frame.DataFrame'>\n",
      "DatetimeIndex: 18263 entries, 1970-10-01 00:00:00+00:00 to 2020-09-30 00:00:00+00:00\n",
      "Data columns (total 3 columns):\n",
      " #   Column         Non-Null Count  Dtype  \n",
      "---  ------         --------------  -----  \n",
      " 0   00060_Mean     18263 non-null  float64\n",
      " 1   00060_Mean_cd  18263 non-null  object \n",
      " 2   site_no        18263 non-null  object \n",
      "dtypes: float64(1), object(2)\n",
      "memory usage: 570.7+ KB\n"
     ]
    },
    {
     "data": {
      "text/plain": [
       "None"
      ]
     },
     "metadata": {},
     "output_type": "display_data"
    },
    {
     "name": "stdout",
     "output_type": "stream",
     "text": [
      "List of different variables in each class: \n",
      "\n"
     ]
    },
    {
     "data": {
      "text/plain": [
       "00060_Mean       1275\n",
       "00060_Mean_cd       2\n",
       "site_no             1\n",
       "dtype: int64"
      ]
     },
     "metadata": {},
     "output_type": "display_data"
    },
    {
     "name": "stdout",
     "output_type": "stream",
     "text": [
      "\n",
      " Sample Statistics\n"
     ]
    },
    {
     "data": {
      "text/html": [
       "<div>\n",
       "<style scoped>\n",
       "    .dataframe tbody tr th:only-of-type {\n",
       "        vertical-align: middle;\n",
       "    }\n",
       "\n",
       "    .dataframe tbody tr th {\n",
       "        vertical-align: top;\n",
       "    }\n",
       "\n",
       "    .dataframe thead th {\n",
       "        text-align: right;\n",
       "    }\n",
       "</style>\n",
       "<table border=\"1\" class=\"dataframe\">\n",
       "  <thead>\n",
       "    <tr style=\"text-align: right;\">\n",
       "      <th></th>\n",
       "      <th>00060_Mean</th>\n",
       "    </tr>\n",
       "  </thead>\n",
       "  <tbody>\n",
       "    <tr>\n",
       "      <th>count</th>\n",
       "      <td>18263.000000</td>\n",
       "    </tr>\n",
       "    <tr>\n",
       "      <th>mean</th>\n",
       "      <td>642.285555</td>\n",
       "    </tr>\n",
       "    <tr>\n",
       "      <th>std</th>\n",
       "      <td>449.101776</td>\n",
       "    </tr>\n",
       "    <tr>\n",
       "      <th>min</th>\n",
       "      <td>1.100000</td>\n",
       "    </tr>\n",
       "    <tr>\n",
       "      <th>25%</th>\n",
       "      <td>291.000000</td>\n",
       "    </tr>\n",
       "    <tr>\n",
       "      <th>50%</th>\n",
       "      <td>549.000000</td>\n",
       "    </tr>\n",
       "    <tr>\n",
       "      <th>75%</th>\n",
       "      <td>879.500000</td>\n",
       "    </tr>\n",
       "    <tr>\n",
       "      <th>max</th>\n",
       "      <td>2990.000000</td>\n",
       "    </tr>\n",
       "  </tbody>\n",
       "</table>\n",
       "</div>"
      ],
      "text/plain": [
       "         00060_Mean\n",
       "count  18263.000000\n",
       "mean     642.285555\n",
       "std      449.101776\n",
       "min        1.100000\n",
       "25%      291.000000\n",
       "50%      549.000000\n",
       "75%      879.500000\n",
       "max     2990.000000"
      ]
     },
     "metadata": {},
     "output_type": "display_data"
    },
    {
     "name": "stdout",
     "output_type": "stream",
     "text": [
      "\n",
      " Random Sample\n"
     ]
    },
    {
     "data": {
      "text/html": [
       "<div>\n",
       "<style scoped>\n",
       "    .dataframe tbody tr th:only-of-type {\n",
       "        vertical-align: middle;\n",
       "    }\n",
       "\n",
       "    .dataframe tbody tr th {\n",
       "        vertical-align: top;\n",
       "    }\n",
       "\n",
       "    .dataframe thead th {\n",
       "        text-align: right;\n",
       "    }\n",
       "</style>\n",
       "<table border=\"1\" class=\"dataframe\">\n",
       "  <thead>\n",
       "    <tr style=\"text-align: right;\">\n",
       "      <th></th>\n",
       "      <th>00060_Mean</th>\n",
       "      <th>00060_Mean_cd</th>\n",
       "      <th>site_no</th>\n",
       "    </tr>\n",
       "    <tr>\n",
       "      <th>datetime</th>\n",
       "      <th></th>\n",
       "      <th></th>\n",
       "      <th></th>\n",
       "    </tr>\n",
       "  </thead>\n",
       "  <tbody>\n",
       "    <tr>\n",
       "      <th>2002-02-20 00:00:00+00:00</th>\n",
       "      <td>114.0</td>\n",
       "      <td>A</td>\n",
       "      <td>13042500</td>\n",
       "    </tr>\n",
       "    <tr>\n",
       "      <th>2018-06-09 00:00:00+00:00</th>\n",
       "      <td>796.0</td>\n",
       "      <td>A</td>\n",
       "      <td>13042500</td>\n",
       "    </tr>\n",
       "    <tr>\n",
       "      <th>2018-12-19 00:00:00+00:00</th>\n",
       "      <td>508.0</td>\n",
       "      <td>A</td>\n",
       "      <td>13042500</td>\n",
       "    </tr>\n",
       "    <tr>\n",
       "      <th>2009-10-10 00:00:00+00:00</th>\n",
       "      <td>363.0</td>\n",
       "      <td>A</td>\n",
       "      <td>13042500</td>\n",
       "    </tr>\n",
       "    <tr>\n",
       "      <th>1997-10-30 00:00:00+00:00</th>\n",
       "      <td>956.0</td>\n",
       "      <td>A</td>\n",
       "      <td>13042500</td>\n",
       "    </tr>\n",
       "    <tr>\n",
       "      <th>2013-08-03 00:00:00+00:00</th>\n",
       "      <td>1060.0</td>\n",
       "      <td>A</td>\n",
       "      <td>13042500</td>\n",
       "    </tr>\n",
       "    <tr>\n",
       "      <th>1978-11-07 00:00:00+00:00</th>\n",
       "      <td>229.0</td>\n",
       "      <td>A</td>\n",
       "      <td>13042500</td>\n",
       "    </tr>\n",
       "    <tr>\n",
       "      <th>2018-05-12 00:00:00+00:00</th>\n",
       "      <td>935.0</td>\n",
       "      <td>A</td>\n",
       "      <td>13042500</td>\n",
       "    </tr>\n",
       "    <tr>\n",
       "      <th>2003-10-05 00:00:00+00:00</th>\n",
       "      <td>181.0</td>\n",
       "      <td>A</td>\n",
       "      <td>13042500</td>\n",
       "    </tr>\n",
       "    <tr>\n",
       "      <th>1977-11-21 00:00:00+00:00</th>\n",
       "      <td>7.9</td>\n",
       "      <td>A</td>\n",
       "      <td>13042500</td>\n",
       "    </tr>\n",
       "    <tr>\n",
       "      <th>2003-06-07 00:00:00+00:00</th>\n",
       "      <td>533.0</td>\n",
       "      <td>A</td>\n",
       "      <td>13042500</td>\n",
       "    </tr>\n",
       "    <tr>\n",
       "      <th>2016-01-10 00:00:00+00:00</th>\n",
       "      <td>112.0</td>\n",
       "      <td>A</td>\n",
       "      <td>13042500</td>\n",
       "    </tr>\n",
       "    <tr>\n",
       "      <th>1976-02-29 00:00:00+00:00</th>\n",
       "      <td>573.0</td>\n",
       "      <td>A</td>\n",
       "      <td>13042500</td>\n",
       "    </tr>\n",
       "    <tr>\n",
       "      <th>1975-04-24 00:00:00+00:00</th>\n",
       "      <td>786.0</td>\n",
       "      <td>A</td>\n",
       "      <td>13042500</td>\n",
       "    </tr>\n",
       "    <tr>\n",
       "      <th>1973-06-06 00:00:00+00:00</th>\n",
       "      <td>885.0</td>\n",
       "      <td>A</td>\n",
       "      <td>13042500</td>\n",
       "    </tr>\n",
       "  </tbody>\n",
       "</table>\n",
       "</div>"
      ],
      "text/plain": [
       "                           00060_Mean 00060_Mean_cd   site_no\n",
       "datetime                                                     \n",
       "2002-02-20 00:00:00+00:00       114.0             A  13042500\n",
       "2018-06-09 00:00:00+00:00       796.0             A  13042500\n",
       "2018-12-19 00:00:00+00:00       508.0             A  13042500\n",
       "2009-10-10 00:00:00+00:00       363.0             A  13042500\n",
       "1997-10-30 00:00:00+00:00       956.0             A  13042500\n",
       "2013-08-03 00:00:00+00:00      1060.0             A  13042500\n",
       "1978-11-07 00:00:00+00:00       229.0             A  13042500\n",
       "2018-05-12 00:00:00+00:00       935.0             A  13042500\n",
       "2003-10-05 00:00:00+00:00       181.0             A  13042500\n",
       "1977-11-21 00:00:00+00:00         7.9             A  13042500\n",
       "2003-06-07 00:00:00+00:00       533.0             A  13042500\n",
       "2016-01-10 00:00:00+00:00       112.0             A  13042500\n",
       "1976-02-29 00:00:00+00:00       573.0             A  13042500\n",
       "1975-04-24 00:00:00+00:00       786.0             A  13042500\n",
       "1973-06-06 00:00:00+00:00       885.0             A  13042500"
      ]
     },
     "metadata": {},
     "output_type": "display_data"
    }
   ],
   "source": [
    "print(f'\\n data types by column' )\n",
    "display(df.dtypes)\n",
    "\n",
    "print(f'\\n data structure type' )\n",
    "display(type(df))\n",
    "\n",
    "print(f'\\n Dataset Information' )\n",
    "display(df.info())\n",
    "\n",
    "print(f'List of different variables in each class: \\n')\n",
    "display(df.nunique())\n",
    "\n",
    "print(f'\\n Sample Statistics' )\n",
    "display(df.describe())\n",
    "\n",
    "print(f'\\n Random Sample' )\n",
    "display(df.sample(15))"
   ]
  },
  {
   "cell_type": "code",
   "execution_count": 51,
   "metadata": {},
   "outputs": [
    {
     "data": {
      "image/png": "[encoded data removed]",
      "text/plain": [
       "<Figure size 1440x1080 with 1 Axes>"
      ]
     },
     "metadata": {
      "needs_background": "dark"
     },
     "output_type": "display_data"
    }
   ],
   "source": [
    "from logging.handlers import RotatingFileHandler\n",
    "from turtle import color\n",
    "\n",
    "\n",
    "fig = plt.figure(figsize = (20,15))\n",
    "df['00060_Mean'].groupby(df.index.year).describe().T.boxplot()\n",
    "ax = plt.gca()\n",
    "plt.title('Yearly Distribution of Flows' , color = lab_clr)\n",
    "plt.xticks(color = lab_clr)\n",
    "plt.xlabel('Year')\n",
    "plt.tick_params(axis='x', labelrotation = 45)\n",
    "plt.ylabel('Rate of Flow')\n",
    "plt.yticks(color = lab_clr)\n",
    "plt.show()"
   ]
  },
  {
   "cell_type": "code",
   "execution_count": 52,
   "metadata": {},
   "outputs": [],
   "source": [
    "# \n",
    "q_ams = df['00060_Mean'].groupby(df.index.year).max().values # group the values by year\n",
    "q_ams_sorted = np.sort(q_ams) # sort from high to low"
   ]
  },
  {
   "cell_type": "code",
   "execution_count": 75,
   "metadata": {},
   "outputs": [
    {
     "data": {
      "image/png": "[encoded data removed]",
      "text/plain": [
       "<Figure size 720x504 with 1 Axes>"
      ]
     },
     "metadata": {
      "needs_background": "dark"
     },
     "output_type": "display_data"
    },
    {
     "data": {
      "text/plain": [
       "<Figure size 432x288 with 0 Axes>"
      ]
     },
     "metadata": {},
     "output_type": "display_data"
    }
   ],
   "source": [
    "plt.figure(figsize = (10,7))\n",
    "plt.plot(q_ams_sorted, 'kp')\n",
    "\n",
    "\n",
    "ax = plt.gca()\n",
    "plt.rcParams.update({'font.size': 16})\n",
    "plt.title(f'Maximum Annual Flow Series at Site {usgs_site[0]}' , color = lab_clr)\n",
    "plt.xticks(color = lab_clr)\n",
    "plt.xlabel('Flow Rank (Low to High)', color = lab_clr)\n",
    "plt.ylabel('Annual Maximum Flow [ft$^3/s$]', color = lab_clr)\n",
    "plt.yticks(color = lab_clr)\n",
    "plt.show()\n",
    "plt.savefig('AnnualMaxFlow.png', dpi = 300)"
   ]
  }
 ],
 "metadata": {
  "kernelspec": {
   "display_name": "Python 3.8.13 ('TensorFlow')",
   "language": "python",
   "name": "python3"
  },
  "language_info": {
   "codemirror_mode": {
    "name": "ipython",
    "version": 3
   },
   "file_extension": ".py",
   "mimetype": "text/x-python",
   "name": "python",
   "nbconvert_exporter": "python",
   "pygments_lexer": "ipython3",
   "version": "3.8.13"
  },
  "orig_nbformat": 4,
  "vscode": {
   "interpreter": {
    "hash": "912eafd5ee5c1e4d56f34d0aa7e3917e45abe7e57c2d89df6b69ab38f0477a8e"
   }
  }
 },
 "nbformat": 4,
 "nbformat_minor": 2
}
